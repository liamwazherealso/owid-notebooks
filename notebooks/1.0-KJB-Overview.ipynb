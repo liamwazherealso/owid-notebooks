{
 "cells": [
  {
   "cell_type": "markdown",
   "metadata": {},
   "source": [
    "# Overview Notebook\n",
    "## Dataset questions \n",
    "    -count of dataset directories\n",
    "    -files within each dataset directory\n",
    "        * does each directory have 1 dataset as a csv a README.md and a datapackage.json\n",
    "        * A README.md containing the datasets description\n",
    "        * if not what is in each directory\n",
    "        * search each directory if it contains subdirectories and determine its content    \n",
    "    - return JSON object for directories that do not have a 1 csv 1 README.md and a datapackage.json in it.\n",
    "    -for sets make structural checks for analysis\n",
    "        * Organize the dtypes of each dataset into a dataframe\n",
    "        * check shape\n",
    "        * if dataset contains world data check to see which countries are generally underrepresented\n",
    "\n",
    "     -for checking all datasets\n",
    "        * check to see the primary, secondary and tertiary modes range for all sets (maybe represent this as a histogram)\n",
    "     -for handling mixed datatypes at the series level\n",
    "         *TBD\n",
    "      for datapackage.jsons\n",
    "          *Create a csv containing source links,id,name published by\n",
    "\n",
    "## Analysis\n",
    "\n",
    "    -Create sentiment analysis of datasets determining the best and worse years based on a scoring system\n",
    "    - exploratory analysis \n",
    "        * TBD\n",
    "    - linear plot of the score over the primary secondary and tertiary mode Year ranges\n",
    "    - find a way to weigh each dataset according to impact level\n",
    "        * A library may exist for this\n",
    "     - cleaning process\n",
    "         * TBD\n",
    "### Primary Extraction\n",
    "## ML Processing\n",
    "    -TBD"
   ]
  },
  {
   "cell_type": "code",
   "execution_count": 12,
   "metadata": {},
   "outputs": [],
   "source": [
    "from glob import glob\n",
    "from os import path\n",
    "import os\n",
    "import pandas as pd\n",
    "import numpy as np\n",
    "from src.visualization.visualize import *\n",
    "from src.data.make_dataset import *\n",
    "import subprocess\n",
    "import json  \n",
    "\n",
    "#DATASETS = \"../owid-datasets/datasets/*\"\n",
    "\n"
   ]
  },
  {
   "cell_type": "code",
   "execution_count": 13,
   "metadata": {},
   "outputs": [
    {
     "name": "stdout",
     "output_type": "stream",
     "text": [
      "1\n",
      "datasets 993\n"
     ]
    }
   ],
   "source": [
    "dataset_dir_cnt=0\n",
    "for i in glob(DATASETS):\n",
    "    dataset_dir_cnt+=1\n",
    "print(dataset_dir_cnt)\n",
    "for dataset in glob(DATASETS+'*'):\n",
    "    if len(os.listdir(dataset))!=3:\n",
    "           print(dataset.split('/')[-1],len(os.listdir(dataset)))\n",
    "# get json return json\n",
    "# look for links in load return links as comma separated string\n",
    "# main will loop through ds's get json look for links create csk\n",
    "\n",
    "    \n",
    "    "
   ]
  },
  {
   "cell_type": "code",
   "execution_count": 14,
   "metadata": {},
   "outputs": [],
   "source": [
    "="
   ]
  },
  {
   "cell_type": "code",
   "execution_count": null,
   "metadata": {},
   "outputs": [],
   "source": [
    "\n",
    "    "
   ]
  },
  {
   "cell_type": "code",
   "execution_count": 15,
   "metadata": {},
   "outputs": [
    {
     "data": {
      "text/html": [
       "<div>\n",
       "<style scoped>\n",
       "    .dataframe tbody tr th:only-of-type {\n",
       "        vertical-align: middle;\n",
       "    }\n",
       "\n",
       "    .dataframe tbody tr th {\n",
       "        vertical-align: top;\n",
       "    }\n",
       "\n",
       "    .dataframe thead th {\n",
       "        text-align: right;\n",
       "    }\n",
       "</style>\n",
       "<table border=\"1\" class=\"dataframe\">\n",
       "  <thead>\n",
       "    <tr style=\"text-align: right;\">\n",
       "      <th></th>\n",
       "      <th>id</th>\n",
       "      <th>title</th>\n",
       "      <th>source_links</th>\n",
       "    </tr>\n",
       "  </thead>\n",
       "  <tbody>\n",
       "    <tr>\n",
       "      <th>0</th>\n",
       "      <td>2723</td>\n",
       "      <td>Ozone hole area and concentration - NASA</td>\n",
       "      <td>http://ozonewatch.gsfc.nasa.gov/meteorology/an...</td>\n",
       "    </tr>\n",
       "    <tr>\n",
       "      <th>1</th>\n",
       "      <td>4886</td>\n",
       "      <td>CO2 emissions factors of energy sources (IPCC,...</td>\n",
       "      <td>https://www.ipcc.ch/site/assets/uploads/2018/0...</td>\n",
       "    </tr>\n",
       "    <tr>\n",
       "      <th>2</th>\n",
       "      <td>408</td>\n",
       "      <td>CO2 intensity- (kgCO2/2011-$ PPP)- World Bank</td>\n",
       "      <td>None</td>\n",
       "    </tr>\n",
       "    <tr>\n",
       "      <th>3</th>\n",
       "      <td>588</td>\n",
       "      <td>Prevalence of weight categories in females - N...</td>\n",
       "      <td>http://www.ncdrisc.org/index.html</td>\n",
       "    </tr>\n",
       "    <tr>\n",
       "      <th>4</th>\n",
       "      <td>4136</td>\n",
       "      <td>Political Regimes — V-Dem (2019)</td>\n",
       "      <td>https://www.v-dem.net/en/data/data-version-9/</td>\n",
       "    </tr>\n",
       "  </tbody>\n",
       "</table>\n",
       "</div>"
      ],
      "text/plain": [
       "     id                                              title  \\\n",
       "0  2723           Ozone hole area and concentration - NASA   \n",
       "1  4886  CO2 emissions factors of energy sources (IPCC,...   \n",
       "2   408      CO2 intensity- (kgCO2/2011-$ PPP)- World Bank   \n",
       "3   588  Prevalence of weight categories in females - N...   \n",
       "4  4136                   Political Regimes — V-Dem (2019)   \n",
       "\n",
       "                                        source_links  \n",
       "0  http://ozonewatch.gsfc.nasa.gov/meteorology/an...  \n",
       "1  https://www.ipcc.ch/site/assets/uploads/2018/0...  \n",
       "2                                               None  \n",
       "3                  http://www.ncdrisc.org/index.html  \n",
       "4      https://www.v-dem.net/en/data/data-version-9/  "
      ]
     },
     "execution_count": 15,
     "metadata": {},
     "output_type": "execute_result"
    }
   ],
   "source": [
    "df=generate_datapackage_csv(DATASETS)\n",
    "df.head()"
   ]
  },
  {
   "cell_type": "code",
   "execution_count": 16,
   "metadata": {},
   "outputs": [],
   "source": [
    "ds_dict = get_ds_dict(DATASETS)\n",
    "df_cols = get_df_cols(ds_dict)"
   ]
  },
  {
   "cell_type": "code",
   "execution_count": 17,
   "metadata": {},
   "outputs": [],
   "source": [
    "col_to_uniq = get_col_to_uniq(df_cols)\n",
    "col_to_dtype = get_col_to_dtype(col_to_uniq)"
   ]
  },
  {
   "cell_type": "code",
   "execution_count": 18,
   "metadata": {},
   "outputs": [
    {
     "name": "stdout",
     "output_type": "stream",
     "text": [
      "MergeError: Cumulative share of marriages ending in divorce (England and Wales, UK ONS)\n"
     ]
    }
   ],
   "source": [
    "overwrite = {'Forest Transition Phase': 'object'}\n",
    "\n",
    "# don't have to create a blank df with a do_while\n",
    "do_while = 0\n",
    "for ds in glob(DATASETS+'/*'):\n",
    "    do_while += 1\n",
    "    if do_while == 1:\n",
    "        ds = os.path.basename(ds)\n",
    "        df = load_data(ds)\n",
    "        df = df.set_index([\"Entity\", \"Year\"])\n",
    "        df = apply_data_hierarchy(df, col_to_dtype, overwrite=overwrite)\n",
    "        continue\n",
    "        \n",
    "    ds = os.path.basename(ds)\n",
    "    df2 = load_data(ds)\n",
    "    df2 = df2.set_index([\"Entity\", \"Year\"])\n",
    "    \n",
    "    overwrite['ds_name'] = ds\n",
    "    df2 = apply_data_hierarchy(df2, col_to_dtype, overwrite=overwrite)\n",
    "    \n",
    "    try:\n",
    "        df = pd.merge(df, df2, how='left', on=[\"Entity\", \"Year\"])\n",
    "    except ValueError:\n",
    "        print(\"MergeError:\", ds)"
   ]
  },
  {
   "cell_type": "code",
   "execution_count": 19,
   "metadata": {},
   "outputs": [],
   "source": [
    "df_back = df.copy()"
   ]
  },
  {
   "cell_type": "code",
   "execution_count": 10,
   "metadata": {},
   "outputs": [],
   "source": [
    "df2 = load_data('Cumulative share of marriages ending in divorce (England and Wales, UK ONS)')"
   ]
  },
  {
   "cell_type": "code",
   "execution_count": 11,
   "metadata": {},
   "outputs": [],
   "source": [
    "retry_df = apply_data_hierarchy(df2, col_to_dtype, overwrite={\"Year\": \"object\"})\n",
    "dataset_all_df=pd.merge(df, retry_df, how='left', on=[\"Entity\", \"Year\"])\n"
   ]
  },
  {
   "cell_type": "code",
   "execution_count": null,
   "metadata": {},
   "outputs": [],
   "source": []
  },
  {
   "cell_type": "code",
   "execution_count": null,
   "metadata": {},
   "outputs": [],
   "source": []
  },
  {
   "cell_type": "code",
   "execution_count": null,
   "metadata": {},
   "outputs": [],
   "source": []
  },
  {
   "cell_type": "code",
   "execution_count": null,
   "metadata": {},
   "outputs": [],
   "source": []
  }
 ],
 "metadata": {
  "kernelspec": {
   "display_name": "Python 3",
   "language": "python",
   "name": "python3"
  },
  "language_info": {
   "codemirror_mode": {
    "name": "ipython",
    "version": 3
   },
   "file_extension": ".py",
   "mimetype": "text/x-python",
   "name": "python",
   "nbconvert_exporter": "python",
   "pygments_lexer": "ipython3",
   "version": "3.8.3"
  }
 },
 "nbformat": 4,
 "nbformat_minor": 4
}
