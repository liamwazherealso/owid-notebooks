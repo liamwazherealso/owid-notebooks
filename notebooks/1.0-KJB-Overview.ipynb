{
 "cells": [
  {
   "cell_type": "markdown",
   "metadata": {},
   "source": [
    "# Overview Notebook\n",
    "## Questions \n",
    "    -count of dataset directories\n",
    "    -files within each dataset directory\n",
    "        * does each directory have 1 dataset as a csv\n",
    "        * A README.md Dataset Descriptor\n",
    "        * if not what is in each directory\n",
    "        * recursively search each directory if it contains subirectories and determine its content    \n",
    "    - return JSON object for directories that do not have a 1 csv 1 README.md in it\n",
    "    -for sets make structural checks for analysis\n",
    "        * Organize the dtypes of each dataset into a dataframe\n",
    "        * check shape\n",
    "        * if dataset contains worldwide data check to see which countries are generally underrepresented\n",
    "\n",
    "     -for checking all dataseets\n",
    "        * check to see the primary, secondary and tertiary modes range for all sets (maybe represent this as a histogram)\n",
    "     -for handling mixed datatypes at the series level\n",
    "         *TBD\n",
    "\n",
    "## Analysis\n",
    "\n",
    "    -Create sentiment analysis of datasets determining the years the best and worse years\n",
    "    - exploratory analysis \n",
    "        * TBD\n",
    "    - linear plot of the score over the primary secondary and tertiary mode Year ranges\n",
    "    - find a way to weigh each dataset according to impact level\n",
    "        * A library may exist for this\n",
    "     - cleaning process\n",
    "         * TBD\n",
    "### Primary Extraction\n",
    "## ML Processing\n",
    "    -TBD\n",
    "\n",
    "    "
   ]
  },
  {
   "cell_type": "code",
   "execution_count": 1,
   "metadata": {},
   "outputs": [],
   "source": [
    "from glob import glob\n",
    "from os import path\n",
    "import os\n",
    "import pandas as pd\n",
    "import numpy as np\n",
    "from src.visualization.visualize import *\n",
    "from src.data.make_dataset import *\n",
    "\n",
    "DATASETS = \"../owid-datasets/datasets/*\"\n",
    "\n"
   ]
  },
  {
   "cell_type": "code",
   "execution_count": null,
   "metadata": {},
   "outputs": [],
   "source": []
  },
  {
   "cell_type": "code",
   "execution_count": 2,
   "metadata": {},
   "outputs": [
    {
     "ename": "NameError",
     "evalue": "name 'DATASETS' is not defined",
     "output_type": "error",
     "traceback": [
      "\u001b[0;31m---------------------------------------------------------------------------\u001b[0m",
      "\u001b[0;31mNameError\u001b[0m                                 Traceback (most recent call last)",
      "\u001b[0;32m<ipython-input-2-5298ccdfa44e>\u001b[0m in \u001b[0;36m<module>\u001b[0;34m\u001b[0m\n\u001b[0;32m----> 1\u001b[0;31m \u001b[0mds_dict\u001b[0m \u001b[0;34m=\u001b[0m \u001b[0mget_ds_dict\u001b[0m\u001b[0;34m(\u001b[0m\u001b[0;34m)\u001b[0m\u001b[0;34m\u001b[0m\u001b[0;34m\u001b[0m\u001b[0m\n\u001b[0m\u001b[1;32m      2\u001b[0m \u001b[0mdf_cols\u001b[0m \u001b[0;34m=\u001b[0m \u001b[0mget_df_cols\u001b[0m\u001b[0;34m(\u001b[0m\u001b[0mds_dict\u001b[0m\u001b[0;34m)\u001b[0m\u001b[0;34m\u001b[0m\u001b[0;34m\u001b[0m\u001b[0m\n",
      "\u001b[0;32m~/Desktop/github_projects/owid_project_branches/kareem-analysis/owid-notebooks/src/data/make_dataset.py\u001b[0m in \u001b[0;36mget_ds_dict\u001b[0;34m()\u001b[0m\n\u001b[1;32m     27\u001b[0m \u001b[0;32mdef\u001b[0m \u001b[0mget_ds_dict\u001b[0m\u001b[0;34m(\u001b[0m\u001b[0;34m)\u001b[0m\u001b[0;34m:\u001b[0m\u001b[0;34m\u001b[0m\u001b[0;34m\u001b[0m\u001b[0m\n\u001b[1;32m     28\u001b[0m     \u001b[0mds_dict\u001b[0m \u001b[0;34m=\u001b[0m \u001b[0;34m{\u001b[0m\u001b[0;34m}\u001b[0m\u001b[0;34m\u001b[0m\u001b[0;34m\u001b[0m\u001b[0m\n\u001b[0;32m---> 29\u001b[0;31m     \u001b[0;32mfor\u001b[0m \u001b[0mds\u001b[0m \u001b[0;32min\u001b[0m \u001b[0mglob\u001b[0m\u001b[0;34m(\u001b[0m\u001b[0mDATASETS\u001b[0m\u001b[0;34m)\u001b[0m\u001b[0;34m:\u001b[0m\u001b[0;34m\u001b[0m\u001b[0;34m\u001b[0m\u001b[0m\n\u001b[0m\u001b[1;32m     30\u001b[0m         \u001b[0mds\u001b[0m \u001b[0;34m=\u001b[0m \u001b[0mos\u001b[0m\u001b[0;34m.\u001b[0m\u001b[0mpath\u001b[0m\u001b[0;34m.\u001b[0m\u001b[0mbasename\u001b[0m\u001b[0;34m(\u001b[0m\u001b[0mds\u001b[0m\u001b[0;34m)\u001b[0m\u001b[0;34m\u001b[0m\u001b[0;34m\u001b[0m\u001b[0m\n\u001b[1;32m     31\u001b[0m         \u001b[0mdf\u001b[0m \u001b[0;34m=\u001b[0m \u001b[0mload_data\u001b[0m\u001b[0;34m(\u001b[0m\u001b[0mds\u001b[0m\u001b[0;34m)\u001b[0m\u001b[0;34m\u001b[0m\u001b[0;34m\u001b[0m\u001b[0m\n",
      "\u001b[0;31mNameError\u001b[0m: name 'DATASETS' is not defined"
     ]
    }
   ],
   "source": [
    "ds_dict = get_ds_dict()\n",
    "df_cols = get_df_cols(ds_dict)"
   ]
  },
  {
   "cell_type": "code",
   "execution_count": null,
   "metadata": {},
   "outputs": [],
   "source": [
    "col_to_uniq = get_col_to_uniq(df_cols)\n",
    "col_to_dtype = get_col_to_dtype(col_to_uniq)"
   ]
  },
  {
   "cell_type": "code",
   "execution_count": null,
   "metadata": {},
   "outputs": [],
   "source": [
    "overwrite = {'Forest Transition Phase': 'object'}\n",
    "\n",
    "# don't have to create a blank df with a do_while\n",
    "do_while = 0\n",
    "for ds in glob(DATASETS):\n",
    "    do_while += 1\n",
    "    if do_while == 1:\n",
    "        ds = os.path.basename(ds)\n",
    "        df = load_data(ds)\n",
    "        df = df.set_index([\"Entity\", \"Year\"])\n",
    "        df = apply_data_hierarchy(df, col_to_dtype, overwrite=overwrite)\n",
    "        continue\n",
    "        \n",
    "    ds = os.path.basename(ds)\n",
    "    df2 = load_data(ds)\n",
    "    df2 = df2.set_index([\"Entity\", \"Year\"])\n",
    "    \n",
    "    overwrite['ds_name'] = ds\n",
    "    df2 = apply_data_hierarchy(df2, col_to_dtype, overwrite=overwrite)\n",
    "    \n",
    "    try:\n",
    "        df = pd.merge(df, df2, how='left', on=[\"Entity\", \"Year\"])\n",
    "    except ValueError:\n",
    "        print(\"MergeError:\", ds)"
   ]
  },
  {
   "cell_type": "code",
   "execution_count": null,
   "metadata": {},
   "outputs": [],
   "source": [
    "df_back = df.copy()"
   ]
  },
  {
   "cell_type": "code",
   "execution_count": null,
   "metadata": {},
   "outputs": [],
   "source": [
    "df2 = load_data('Cumulative share of marriages ending in divorce (England and Wales, UK ONS)')"
   ]
  },
  {
   "cell_type": "code",
   "execution_count": null,
   "metadata": {},
   "outputs": [],
   "source": [
    "retry_df = apply_data_hierarchy(df2, col_to_dtype, overwrite={\"Year\": \"object\"})\n",
    "dataset_all_df=pd.merge(df, retry_df, how='left', on=[\"Entity\", \"Year\"])\n",
    "dataset_all_df.to_csv('../models/data_set_merge.csv')"
   ]
  },
  {
   "cell_type": "code",
   "execution_count": null,
   "metadata": {},
   "outputs": [],
   "source": []
  },
  {
   "cell_type": "code",
   "execution_count": null,
   "metadata": {},
   "outputs": [],
   "source": []
  },
  {
   "cell_type": "code",
   "execution_count": null,
   "metadata": {},
   "outputs": [],
   "source": []
  }
 ],
 "metadata": {
  "kernelspec": {
   "display_name": "Python 3",
   "language": "python",
   "name": "python3"
  },
  "language_info": {
   "codemirror_mode": {
    "name": "ipython",
    "version": 3
   },
   "file_extension": ".py",
   "mimetype": "text/x-python",
   "name": "python",
   "nbconvert_exporter": "python",
   "pygments_lexer": "ipython3",
   "version": "3.8.3"
  }
 },
 "nbformat": 4,
 "nbformat_minor": 4
}
