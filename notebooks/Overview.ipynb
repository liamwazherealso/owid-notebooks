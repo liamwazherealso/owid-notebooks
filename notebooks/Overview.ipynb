{
 "cells": [
  {
   "cell_type": "markdown",
   "metadata": {},
   "source": [
    "# Overview of data columns\n",
    "Programatically sort out data columns "
   ]
  },
  {
   "cell_type": "code",
   "execution_count": 2,
   "metadata": {},
   "outputs": [],
   "source": [
    "from glob import glob\n",
    "from os import path\n",
    "import os\n",
    "import pandas as pd"
   ]
  },
  {
   "cell_type": "code",
   "execution_count": 3,
   "metadata": {},
   "outputs": [],
   "source": [
    "DATASETS = \"../owid-datasets/datasets/*\"\n",
    "\n",
    "def load_data(ds):\n",
    "    return pd.read_csv(os.path.join(\"../owid-datasets/datasets/\", ds, ds + \".csv\"))"
   ]
  },
  {
   "cell_type": "code",
   "execution_count": 4,
   "metadata": {},
   "outputs": [],
   "source": [
    "ds_dict = {}\n",
    "ds_shapes = []\n",
    "for ds in glob(DATASETS):\n",
    "    ds = os.path.basename(ds)\n",
    "    df = load_data(ds)\n",
    "    ds_dict[ds] = list(df.columns)\n",
    "    ds_shapes.append(df.shape)"
   ]
  },
  {
   "cell_type": "code",
   "execution_count": 7,
   "metadata": {},
   "outputs": [
    {
     "name": "stdout",
     "output_type": "stream",
     "text": [
      "992\n"
     ]
    }
   ],
   "source": [
    "# How many of these datasets have a year col?\n",
    "print(sum([1 if \"Year\" in v else 0 for v in ds_dict.values()]))"
   ]
  },
  {
   "cell_type": "code",
   "execution_count": 8,
   "metadata": {},
   "outputs": [
    {
     "name": "stdout",
     "output_type": "stream",
     "text": [
      "992\n"
     ]
    }
   ],
   "source": [
    "# How many datasets have a entity col?\n",
    "print(sum([1 if \"Entity\" in v else 0 for v in ds_dict.values()]))"
   ]
  },
  {
   "cell_type": "raw",
   "metadata": {},
   "source": [
    "df = pd.DataFrame()\n",
    "for ds in glob(DATASETS):\n",
    "    ds = os.path.basename(ds)\n",
    "    df2 = load_data(ds)\n",
    "    df = df.append(df2, ignore_index=True, sort=False)"
   ]
  },
  {
   "cell_type": "code",
   "execution_count": null,
   "metadata": {},
   "outputs": [],
   "source": [
    "ds_shapes_df = pd.DataFrame(ds_shapes)\n",
    "shape = list(ds_shapes_df.sum().values)\n",
    "df = pd.DataFrame(index=range(shape[0]), columns=range(shape[1]))"
   ]
  },
  {
   "cell_type": "code",
   "execution_count": 21,
   "metadata": {},
   "outputs": [
    {
     "data": {
      "text/plain": [
       "[3720465, 6159]"
      ]
     },
     "execution_count": 21,
     "metadata": {},
     "output_type": "execute_result"
    }
   ],
   "source": []
  },
  {
   "cell_type": "code",
   "execution_count": null,
   "metadata": {},
   "outputs": [],
   "source": []
  }
 ],
 "metadata": {
  "kernelspec": {
   "display_name": "Python 3",
   "language": "python",
   "name": "python3"
  },
  "language_info": {
   "codemirror_mode": {
    "name": "ipython",
    "version": 3
   },
   "file_extension": ".py",
   "mimetype": "text/x-python",
   "name": "python",
   "nbconvert_exporter": "python",
   "pygments_lexer": "ipython3",
   "version": "3.7.6"
  }
 },
 "nbformat": 4,
 "nbformat_minor": 4
}
